{
  "nbformat": 4,
  "nbformat_minor": 0,
  "metadata": {
    "colab": {
      "name": "fur-NMT-eval.ipynb",
      "provenance": [],
      "authorship_tag": "ABX9TyM2RLJd0Tp0xr9Zsk8uyWcQ",
      "include_colab_link": true
    },
    "kernelspec": {
      "name": "python3",
      "display_name": "Python 3"
    },
    "accelerator": "GPU"
  },
  "cells": [
    {
      "cell_type": "markdown",
      "metadata": {
        "id": "view-in-github",
        "colab_type": "text"
      },
      "source": [
        "<a href=\"https://colab.research.google.com/github/deterministic-algorithms-lab/Large-XLM/blob/master/fur_NMT_eval.ipynb\" target=\"_parent\"><img src=\"https://colab.research.google.com/assets/colab-badge.svg\" alt=\"Open In Colab\"/></a>"
      ]
    },
    {
      "cell_type": "code",
      "metadata": {
        "id": "7j4JX8c-0Qaf",
        "colab_type": "code",
        "colab": {}
      },
      "source": [
        "from google.colab import drive\n",
        "drive.mount('/content/drive')"
      ],
      "execution_count": null,
      "outputs": []
    },
    {
      "cell_type": "markdown",
      "metadata": {
        "id": "hntedZ6lbjC_",
        "colab_type": "text"
      },
      "source": [
        "## Clone fastBPE and XLM"
      ]
    },
    {
      "cell_type": "code",
      "metadata": {
        "id": "s8Tp3UkF7pV6",
        "colab_type": "code",
        "colab": {}
      },
      "source": [
        "%cd /content/\n",
        "!git clone https://github.com/glample/fastBPE\n",
        "%cd fastBPE\n",
        "!g++ -std=c++11 -pthread -O3 fastBPE/main.cc -IfastBPE -o fast\n",
        "%cd .."
      ],
      "execution_count": null,
      "outputs": []
    },
    {
      "cell_type": "code",
      "metadata": {
        "id": "Oka40AKl1tTe",
        "colab_type": "code",
        "colab": {}
      },
      "source": [
        "!git clone github.com/deterministic-algorithms-lab/Large-XLM\n",
        "xlm_dir = '/content/drive/My Drive/Large-XLM'\n",
        "%cd {xlm_dir}"
      ],
      "execution_count": null,
      "outputs": []
    },
    {
      "cell_type": "code",
      "metadata": {
        "id": "BSFY8HcO4g6U",
        "colab_type": "code",
        "colab": {}
      },
      "source": [
        "import os"
      ],
      "execution_count": null,
      "outputs": []
    },
    {
      "cell_type": "markdown",
      "metadata": {
        "id": "CH7Ph2m6bemC",
        "colab_type": "text"
      },
      "source": [
        "## Apply BPE to Text Files"
      ]
    },
    {
      "cell_type": "code",
      "metadata": {
        "id": "FGMP4Li22M9b",
        "colab_type": "code",
        "colab": {}
      },
      "source": [
        "test_data_root = '/content/test_data/'                                                                #txt files of test data must be directly under this folder\n",
        "bpe_path = '/content/drive/XLM/checkpoints/Exp-1/codes_xnli_100'                                      #Path to file having bpe codes\n",
        "fast_path = '/content/fastBPE/fast'                                                                   #Path to fast\n",
        "out_path = '/content/bped/'                                                                           #Directory where the output files files of BPE are to be stored.\n",
        "command = fast_path+' applybpe '\n",
        "for f in os.listdir(root):\n",
        "    in_path = os.path.join(root, f)\n",
        "    final_command = command + os.path.join(out_path, f) + ' ' + in_path + ' ' + bpe_path\n",
        "    print(final_command)\n",
        "    os.system(final_command)"
      ],
      "execution_count": null,
      "outputs": []
    },
    {
      "cell_type": "markdown",
      "metadata": {
        "id": "ots5ovKPdATj",
        "colab_type": "text"
      },
      "source": [
        "## Translate"
      ]
    },
    {
      "cell_type": "code",
      "metadata": {
        "id": "UmZ614VF7eOU",
        "colab_type": "code",
        "colab": {}
      },
      "source": [
        "import re\n",
        "checkpoint_path = '/content/drive/My\\ Drive/XLM/checkpoints/Exp-1/fine-tune.pth'                   #Checkpoint for Model\n",
        "output_path = '/content/drive/My\\ Drive/XLM/evaluation/Exp-1/'                                     #Folder where translated files are to be stored.\n",
        "bped_root = '/content/bped/'                                                                       #Directory Having BPE files\n",
        "for f in os.listdir(bped_root):\n",
        "    src_lang = f[-2]+f[-1]\n",
        "    tgt_lang = [lang for lang in re.findall(r'..-..', f)[0].split('-') if lang!=src_lang][0]\n",
        "    bped_filepath = os.path.join(bped_root, f)\n",
        "    command = \"cat \"+bped_filepath+\" | python translate.py --exp_name translate --src_lang \"+src_lang\\\n",
        "                    +\" --tgt_lang \"+tgt_lang+\" --model_path \"+checkpoint_path+\" --output_path \"+os.path.join(output_path, 'hyp.'+f.replace('test.', ''))\n",
        "    print(command)\n",
        "    x=os.system(command)\n",
        "    if x>>8!=0:\n",
        "        break"
      ],
      "execution_count": null,
      "outputs": []
    },
    {
      "cell_type": "markdown",
      "metadata": {
        "id": "RypGUINhdDkY",
        "colab_type": "text"
      },
      "source": [
        "## Join Together subwords"
      ]
    },
    {
      "cell_type": "code",
      "metadata": {
        "id": "paJOyGn_Ahf2",
        "colab_type": "code",
        "colab": {}
      },
      "source": [
        "import subprocess\n",
        "\n",
        "def restore_segmentation(path):\n",
        "    \"\"\"\n",
        "    Take a file segmented with BPE and restore it to its original segmentation.\n",
        "    \"\"\"\n",
        "    assert os.path.isfile(path)\n",
        "    restore_cmd = \"sed -i -r 's/(@@ )|(@@ ?$)//g' %s\"\n",
        "    subprocess.Popen(restore_cmd % path, shell=True).wait()"
      ],
      "execution_count": null,
      "outputs": []
    },
    {
      "cell_type": "code",
      "metadata": {
        "id": "BwCEgAldZNKt",
        "colab_type": "code",
        "colab": {}
      },
      "source": [
        "for f in os.listdir(output_path):\n",
        "    restore_segmentation(os.path.join(output_path, f))"
      ],
      "execution_count": null,
      "outputs": []
    }
  ]
}
